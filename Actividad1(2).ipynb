{
 "cells": [
  {
   "cell_type": "markdown",
   "metadata": {},
   "source": [
    "# Actividad 1: Conceptos básicos del aprendizaje supervisado"
   ]
  },
  {
   "cell_type": "markdown",
   "metadata": {},
   "source": [
    "Esta primera actividad consiste en demostrar conocimientos básicos acerca del aprendizaje supervisado, haciendo uso de los conceptos aprendidos en el Tema 1 de la asignatura."
   ]
  },
  {
   "cell_type": "markdown",
   "metadata": {},
   "source": [
    "Información general:\n",
    "* La entrega consistirá en un archivo .ipynb siguiendo las instrucciones de este notebook.\n",
    "* Fecha de entrega: **16 Enero 2019 a las 23:59 (hora española)** en la sección Actividades del aula de 05MAIR.\n",
    "* 20% de la nota final."
   ]
  },
  {
   "cell_type": "markdown",
   "metadata": {},
   "source": [
    "Instrucciones para cumplimentar el notebook:\n",
    "* Descarga este notebook, que servirá como base para la entrega.\n",
    "* **No hay que modificar las celdas** que vienen en la hoja de actividades, **a no ser que se especifique claramente en la celda**. Para contestar a las preguntas, por favor añade celdas inmediatamente después de cada pregunta.\n",
    "* Para la nota se valorará tanto la consecución de la respuesta adecuada como el estilo y adecuación del código fuente (si procede responder con código), así como la inclusión de comentarios apropiados.\n",
    "* **No está permitido compartir los resultados de una actividad** en el foro o con cualquier compañero, **salvo indicación expresa en el enunciado de la actividad**. Hacerlo puede suponer suspender la asignatura y enfrentarse a medidas disciplinarias."
   ]
  },
  {
   "cell_type": "markdown",
   "metadata": {},
   "source": [
    "Información útil:\n",
    "* Para crear celdas en el notebook, usa el botón \"+\" del menú situado en la esquina superior izquierda.\n",
    "* Para ejecutar una celda (texto o código), pulsa el botón \"Run\" del menú situado en la esquina superior izquierda.\n",
    "* Recuerda cambiar el tipo de celda de forma adecuada con el menú superior.\n",
    "* Más información sobre notebooks en la documentación oficial: https://jupyter.readthedocs.io/en/latest/"
   ]
  },
  {
   "cell_type": "markdown",
   "metadata": {},
   "source": [
    "### Ejercicio 1 (1 punto)"
   ]
  },
  {
   "cell_type": "markdown",
   "metadata": {},
   "source": [
    "Describa con sus propias palabras, de forma clara, en qué consisten las fases de comprensión del negocio y preparación de los datos de la metodología CRISP-DM. Escriba su respuesta en la celda que aparece a continuación."
   ]
  },
  {
   "cell_type": "markdown",
   "metadata": {},
   "source": [
    "## <span style=\"color:teal;\">Comprensión del negocio.</span>\n",
    "\n",
    "Esta fase consta de cuatro tareas:\n",
    "\n",
    "   - <b>Determinar los objetivos de negocio.</b> En esta primera tarea, se deben de conseguir dos cosas fundamentalmente: entender la problemática del cliente y determinar el objetivo para su resolución. Para ello, se debe procurar establecer con la mayor precisión posible, cual es el objetivo final requerido en el contexto de su negocio, así como constatar aquellos factores, de entre todos los posibles, que mejor influirán en el resultado del proyecto.<br><br>\n",
    "   - <b>Evaluar la situación actual.</b> Se trata de detallar con mayor precisión la tarea anterior. Se deben examinar los recursos disponibles: personal, datos, etc. También es necesario corroborar si la minería de datos es la correcta forma de abordar el problema.<br><br>\n",
    "   - <b>Determinar los objetivos de la minería de datos.</b> Consiste en alinear los objetivos de negocio, que son de carácter empresarial, con la estrategia de minería de datos, que es de carácter técnico.<br><br>\n",
    "   - <b>Producir un plan de proyecto.</b> El resultado de esta fase debe producir como resultado, un plan de previsión para alcanzar los objetivos de la minería de datos que permitan, a su vez, lograr los objetivos de negocio. Se debe crear un procedimiento y establecer los recursos necesarios para su consecución.\n",
    "\n",
    "## <span style=\"color:teal;\">Preparación de los datos.</span>\n",
    "\n",
    "Esta fase consta de las siguientes cinco tareas:\n",
    "\n",
    "   - <b>Seleccionar los datos.</b> Se trata de determinar los datos a utilizar para el análisis: la fuente de los mismos, su calidad, su relación con los objetivos ya definidos en la minería de datos, etc.<br><br>\n",
    "   - <b>Limpiar los datos.</b> Los datos pueden venir incompletos (missing) o incongruentes (outliers). Se han de aplicar ciertas técnicas a los conjuntos de datos de forma que su calidad les permita poder ser utilizados en la siguiente fase.<br><br>\n",
    "   - <b>Construir datos.</b> Puede ser necesario crear nuevas columnas, calculadas en función de otras, de modo que resulten más adecuadas para nuestro objetivo.<br><br>\n",
    "   - <b>Integrar los datos.</b> También puede ser necesario crear nuevas filas a partir de diferentes conjuntos de datos. Esto permite trabajar con un único conjunto homogéneo de datos.<br><br>\n",
    "   - <b>Formatear los datos.</b> Sin cambiar el significado de los datos, se pueden alterar estos, sintácticamente. Dependiendo de las herramientas utilizadas para la minería de datos, pueden ser exigibles ciertas características (tipo de separador, formato de los textos, etc.).<br><br>"
   ]
  },
  {
   "cell_type": "markdown",
   "metadata": {},
   "source": [
    "### Ejercicio 2 (2 puntos)"
   ]
  },
  {
   "cell_type": "markdown",
   "metadata": {},
   "source": [
    "Analice al menos tres herramientas o librerías software que pudiesen ser de utilidad para llevar a cabo la fase de preparación de datos de la metodología CRISP-DM. Discuta las ventajas e inconvenientes de cada herramienta o librería."
   ]
  },
  {
   "cell_type": "markdown",
   "metadata": {},
   "source": [
    "## <span style=\"color:teal;\">Herramientas para la preparación de datos.</span>\n",
    "\n",
    "Actualmente hay disponibles en el mercado una gran diversidad de herramientas que permiten llevar a cabo las tareas de preparación de datos. Entre ellas hemos escogidos tres que nos parecen, por diferentes motivos, adecuadas para esta fase de la metodología CRISP-DM.\n",
    "\n",
    "<b>OpenRefine (Google Refine).</b>\n",
    "\n",
    "Disponible en: http://openrefine.org a través de GitHub https://github.com/OpenRefine/OpenRefine/releases.<br>\n",
    "\n",
    "   - <span style=\"color:navy;\"><b>Pros:</b></span> Si vamos a trabajar dentro del mundo del Open Source, esta es una de las herramientas de referencia para toda la problemática de la preparación de datos.<br>\n",
    "   \n",
    "   Permite utilizar extensiones (o plugins), de modo que sus prestaciones se ven acrecentadas exponencialmente, por la contribución de la comunidad. También permite conectar con distintos tipos de webservices, con el objeto de fusionar datos con servicios externos. Actualmente está en su versión 3.1, lo cual indica un cierto grado de madurez del producto.<br><br>\n",
    "   \n",
    "   - <span style=\"color:navy;\"><b>Contras:</b></span> Es un producto de Google (mantenido por Google News Initative), con lo que su disponibilidad y soporte puede ponerse en entredicho (Google tiene por costumbre anular proyectos que no considera rentables para sus intereses).<br><br>\n",
    "   \n",
    "   - <span style=\"color:navy;\"><b>Principales características:</b></span> Exploración de datos. Limpieza y filtrado de datos. Transformación de datos. Conversión de formatos. Extensión de datos. Enlace de datos y de conjuntos de datos. Importación de datos. Transformaciones a nivel de celda. Partición de datos. Operaciones avanzadas. Reconciliación y coincidencias de datos.<br>\n",
    "   \n",
    "<b>WinPure.</b>\n",
    "\n",
    "Disponible en: https://winpure.com.<br>\n",
    "Aquí podemos ver un ejemplo de los reconocimientos obtenidos por WinPure: https://www.g2crowd.com/products/winpure-clean-match/reviews.<br>\n",
    "\n",
    "   - <span style=\"color:navy;\"><b>Pros:</b></span> Es una herramienta avalada por diferentes premios y reconocimientos populares. Aunque es un producto de pago, su precio es muy competitivo. Aparte de su eficacia como herramienta de preparación de datos, la comunidad descata la calidad de su soporte, su capacidad para guiar al usuario en los procesos para conseguir sus objetivos. <br><br>\n",
    "   \n",
    "   - <span style=\"color:navy;\"><b>Contras:</b></span> Al ser un software propietario, el licenciamiento es uno de sus puntos débiles. Solo es posible utilizar una instancia del mismo, de modo que al cambiar de máquina es necesario validar la licencia en un proceso bastante incordiante.<br><br>\n",
    "   \n",
    "   - <span style=\"color:navy;\"><b>Principales características:</b></span> Limpieza de datos. Capacidad para abordar grandes cantidades de datos, eliminar duplicados, estandarización, etc. todo ello con gran simplicidad. Puede trabajar con fuentes de datos populares (como Access, DBase, SQL Server, archivos de texto, etc.). Incluso acceder a productos CRM. Dispone de algoritmos de búsqueda avanzada.<br>\n",
    "\n",
    "<b>Trifacta Wrangler.</b>\n",
    "\n",
    "Disponible en: https://www.trifacta.com/products/wrangler-editions/#wrangler.<br>\n",
    "\n",
    "   - <span style=\"color:navy;\"><b>Pros:</b></span> Herramienta con tres tipos de licenciamiento: Free, Pro y Enterprise. En la modalidad Free ya es posible atacar una importante cantidad de bases de datos (MS SQL Server, MySQL, Oracle, IBM DB2, etc.) y formatos (CSV, TXT, JSON, Excel XLS y XLSX, etc.). Disponible para Windows y OSX.<br><br>\n",
    "   \n",
    "   - <span style=\"color:navy;\"><b>Contras:</b></span> El soporte para Linux es de pago (a través de las licencias Pro y Enterprise).<br><br>\n",
    "   \n",
    "   - <span style=\"color:navy;\"><b>Principales características:</b></span> Estructurado, limpieza, enriquecimiento, validación. Se integra tanto con aplicaciones On-premise (Cloudera, MapR) como con servicios web (AWS, Google Cloud, Azure).<br>\n"
   ]
  },
  {
   "cell_type": "markdown",
   "metadata": {},
   "source": [
    "### Ejercicio 3 (2 puntos)"
   ]
  },
  {
   "cell_type": "markdown",
   "metadata": {},
   "source": [
    "Explique con sus propias palabras la subfase de selección de los algoritmos de modelado (fase de modelado de la metodología CRISP-DM). Amplíe textualmente alguno de los puntos de esta subfase, usando algunos recursos web, libros o artículos de actualidad."
   ]
  },
  {
   "cell_type": "markdown",
   "metadata": {},
   "source": [
    "## <span style=\"color:teal;\">Subfase de selección de los algoritmos de modelado en CRISP-DM.</span>\n",
    "\n",
    "Esta es una de las tareas más delicadas del proceso, ya que implica la búsqueda y selección del algoritmo que, presuntamente, será el responsable de resolver nuestro problema de la forma más eficaz y/o eficiente.\n",
    "\n",
    "Para llevar a cabo dicha tarea, es necesario tener conocimiento del funcionamiento de los distintos tipos de algoritmos que pueden ser aplicables al tipo de problema planteado, y escoger de entre todos ellos al más adecuado.\n",
    "\n",
    "Es necesario tener en cuenta la forma y calidad de los datos, ya que muchos de estos algoritmos hacen asunciones sobre los mismos que debemos conocer (distribución uniforme de atributos, no presencia de valores <i>ouliers</i> o <i>missing</i>, etc.). \n",
    "\n",
    "En el caso de que se seleccione más de un algoritmo, se debe realizar esta tarea independientemente para cada uno de ellos.\n",
    "\n",
    "Como ejemplo de ampliación del tipo de algoritmos disponibles para esta tarea, recurrimos a un extracto del blog de <b>raona</b>, disponible aquí: https://www.raona.com/los-10-algoritmos-esenciales-machine-learning. Lo que sigue es un extracto del mismo que consideramos adecuado para extender este punto:\n",
    "\n",
    "   - <b>Árboles de decisión:</b> Un árbol de decisiones es el número mínimo de preguntas sí/no necesarias para evaluar la probabilidad de tomar una decisión correcta la mayoría del tiempo. Este método permite abordar el problema de una manera estructurada y sistemática para llegar a una conclusión lógica.<br><br>\n",
    "   - <b>Naïve Bayes Clasification:</b> Son una familia de simples clasificadores probabilísticos basados en la aplicación de Bayes <i>\"Teorema con fuertes supuestos de independencia entre las características\"</i>.<br><br>\n",
    "   - <b>Ordinary Least Squares Regression:</b> Es un método para realizar la regresión lineal. Se puede pensar en la regresión lineal como la tarea de ajustar una línea recta a través de un conjunto de puntos. Hay varias estrategias posibles para hacer esto, como la estrategia de “mínimos cuadrados ordinarios”.<br><br>\n",
    "   - <b>Logistic Regression:</b> La regresión logística es una poderosa manera estadística de modelar un resultado binomial con una o más variables explicativas. Mide la relación entre la variable dependiente categórica y una o más variables independientes estimando las probabilidades utilizando una función logística, que es la distribución logística acumulativa.<br><br>\n",
    "   - <b>Support Vector Machines:</b> SVM es un algoritmo de clasificación binario. Dado un conjunto de puntos de 2 tipos en el lugar N dimensional, SVM genera un hiperplano (N–1) dimensional para separar esos puntos en 2 grupos. Algunos de los problemas que resuelve este tipo de algoritmo son: publicidad en pantalla, reconocimiento de sitios de empalme humanos, detección de género basada en imágenes o clasificación de imágenes a gran escala.<br><br>\n",
    "   - <b>Métodos Ensemble:</b> Los métodos Ensemble son algoritmos de aprendizaje que construyen un conjunto de clasificadores y luego clasifican nuevos puntos de datos tomando un voto ponderado de sus predicciones.\n",
    "   "
   ]
  },
  {
   "cell_type": "markdown",
   "metadata": {},
   "source": [
    "### Ejercicio 4 (1 punto)"
   ]
  },
  {
   "cell_type": "markdown",
   "metadata": {},
   "source": [
    "Produzca tablas de características de tres conjuntos de datos de https://archive.ics.uci.edu/ml/datasets.html usando el formato de la Tabla 2 del manual de la asignatura (pág. 20)."
   ]
  },
  {
   "cell_type": "markdown",
   "metadata": {},
   "source": [
    "<span style=\"color:teal;\">Tabla de características del conjunto de datos <b>\"Automobile\"</b></span>:\n",
    "\n",
    "- <b>Número de instancias:</b> 205<br>\n",
    "- <b>Número de atributos:</b> 26<br>\n",
    "- <b>Descripción de los atributos</b> (Nombre, Descripción, Tipo y rango de valores):\n",
    " - <span style=\"color:navy;\">symboling (Nivel de riesgo)</span>: category (-3, -2, -1, 0, 1, 2, 3)<br>\n",
    " - <span style=\"color:navy;\">normalized-losses (Seguro anual)</span>: continuous from 65 to 256<br>\n",
    " - <span style=\"color:navy;\">make (Marca)</span>: category (alfa-romero, audi, bmw, chevrolet, dodge, honda, isuzu, jaguar, mazda, mercedes-benz, mercury, mitsubishi, nissan, peugot, plymouth, porsche, renault, saab, subaru, toyota, volkswagen, volvo)\n",
    " - <span style=\"color:navy;\">fuel-type (Tipo de combustible)</span>: category (diesel, gas)<br>\n",
    " - <span style=\"color:navy;\">aspiration (Aspiración)</span>: category (std, turbo)<br>\n",
    " - <span style=\"color:navy;\">num-of-doors (Número de puertas)</span>: category (four, two)<br>\n",
    " - <span style=\"color:navy;\">body-style (Carrocería)</span>: category (hardtop, wagon, sedan, hatchback, convertible)<br>\n",
    " - <span style=\"color:navy;\">drive-wheels (Tracción)</span>: category (4wd, fwd, rwd)<br>\n",
    " - <span style=\"color:navy;\">engine-location (Localización del motor)</span>: category (front, rear)<br>\n",
    " - <span style=\"color:navy;\">wheel-base (Tamaño de la rueda)</span>: continuous from 86.6 120.9<br>\n",
    " - <span style=\"color:navy;\">length (Longitud)</span>: continuous from 141.1 to 208.1<br>\n",
    " - <span style=\"color:navy;\">width (Anchura)</span>: continuous from 60.3 to 72.33<br>\n",
    " - <span style=\"color:navy;\">height (Altura)</span>: continuous from 47.8 to 59.8<br>\n",
    " - <span style=\"color:navy;\">curb-weight (Peso)</span>: continuous from 1488 to 4066<br>\n",
    " - <span style=\"color:navy;\">engine-type (Tipo de motor)</span>: category (dohc, dohcv, l, ohc, ohcf, ohcv, rotor)<br>\n",
    " - <span style=\"color:navy;\">num-of-cylinders (Número de cilindros)</span>: category (eight, five, four, six, three, twelve, two)<br>\n",
    " - <span style=\"color:navy;\">engine-size (Cilindrada)</span>: continuous from 61 to 326<br>\n",
    " - <span style=\"color:navy;\">fuel-system (Combustible)</span>: category (1bbl, 2bbl, 4bbl, idi, mfi, mpfi, spdi, spfi)<br>\n",
    " - <span style=\"color:navy;\">bore (Diámetro de los cilindros)</span>: continuous from 2.54 to 3.94<br>\n",
    " - <span style=\"color:navy;\">stroke (Número de tiempos)</span>: continuous from 2.07 to 4.17<br>\n",
    " - <span style=\"color:navy;\">compression-ratio (Ratio de compresión)</span>: continuous from 7 to 23<br>\n",
    " - <span style=\"color:navy;\">horsepower (Potencia)</span>: continuous from 48 to 288<br>\n",
    " - <span style=\"color:navy;\">peak-rpm (RPM)</span>: continuous from 4150 to 6600<br>\n",
    " - <span style=\"color:navy;\">city-mpg (Consumo en ciudad)</span>: continuous from 13 to 49<br>\n",
    " - <span style=\"color:navy;\">highway-mpg (Consumo en carretera)</span>: continuous from 16 to 54<br>\n",
    "- <b>Tipo de datos de la clase:</b> continuous from 5118 to 45400\n",
    "- <b>Descripción de la clase:</b>\n",
    " - <span style=\"color:navy;\">Nombre</span>: precio<br>\n",
    " - <span style=\"color:navy;\">Descripción</span>: Precio del vehículo<br>\n",
    "- <b>Valores ausentes (missing):</b> 59<br><br>\n",
    "\n",
    "- Disponible en: https://archive.ics.uci.edu/ml/datasets/Automobile\n",
    "<br>\n",
    "\n",
    "<span style=\"color:teal;\">Tabla de características del conjunto de datos <b>\"Wine Quality (white)\"</b></span>:\n",
    "\n",
    "- <b>Número de instancias:</b> 4898<br>\n",
    "- <b>Número de atributos:</b> 11<br>\n",
    "- <b>Descripción de los atributos</b> (Nombre, Descripción y Tipo):\n",
    " - <span style=\"color:navy;\">fixed acidity (Acidez)</span>: numeric<br>\n",
    " - <span style=\"color:navy;\">volatile acidity (Volatilidad)</span>: numeric<br>\n",
    " - <span style=\"color:navy;\">citric acid (Ácido cítrico)</span>: numeric<br>\n",
    " - <span style=\"color:navy;\">residual sugar (Azúcar residual)</span>: numeric<br>\n",
    " - <span style=\"color:navy;\">chlorides (Cloruros)</span>: numeric<br>\n",
    " - <span style=\"color:navy;\">free sulfur dioxide (Dióxido de azufre libre)</span>: numeric<br>\n",
    " - <span style=\"color:navy;\">total sulfur dioxide (Dióxido de azufre total)</span>: numeric<br>\n",
    " - <span style=\"color:navy;\">density (Densidad)</span>: numeric<br>\n",
    " - <span style=\"color:navy;\">pH (pH)</span>: numeric<br>\n",
    " - <span style=\"color:navy;\">sulphates (Sulfatos)</span>: numeric<br>\n",
    " - <span style=\"color:navy;\">alcohol (Grado de alcohol)</span>: numeric<br>\n",
    "- <b>Tipo de datos de la clase:</b> numeric (0 to 10)\n",
    "- <b>Descripción de la clase:</b>\n",
    " - <span style=\"color:navy;\">Nombre</span>: quality<br>\n",
    " - <span style=\"color:navy;\">Descripción</span>: Valoración<br>\n",
    "- <b>Valores ausentes (missing):</b> 0<br><br>\n",
    "\n",
    "- Disponible en: https://archive.ics.uci.edu/ml/datasets/Wine+Quality\n",
    "<br>\n",
    "\n",
    "<span style=\"color:teal;\">Tabla de características del conjunto de datos <b>\"Energy efficiency\"</b></span>:\n",
    "\n",
    "- <b>Número de instancias:</b> 768<br>\n",
    "- <b>Número de atributos:</b> 8<br>\n",
    "- <b>Descripción de los atributos</b> (Nombre, Descripción y Tipo):\n",
    " - <span style=\"color:navy;\">Relative Compactness (Compacidad relativa)</span>: numeric<br>\n",
    " - <span style=\"color:navy;\">Surface Area (Superficie)</span>: numeric<br>\n",
    " - <span style=\"color:navy;\">Wall Area (Área de las paredes)</span>: numeric<br>\n",
    " - <span style=\"color:navy;\">Roof Area (Área del tejado)</span>: numeric<br>\n",
    " - <span style=\"color:navy;\">Overall Height (Altura total)</span>: numeric<br>\n",
    " - <span style=\"color:navy;\">Orientation (Orientación)</span>: numeric<br>\n",
    " - <span style=\"color:navy;\">Glazing Area (Área acristalada)</span>: numeric<br>\n",
    " - <span style=\"color:navy;\">Glazing Area Distribution (Distribución del área acristalada)</span>: numeric<br>\n",
    "- <b>Tipo de datos de las clases:</b> numeric\n",
    "- <b>Descripción de las clases (hay dos):</b>\n",
    " - <span style=\"color:navy;\">(1) Nombre</span>: Heating Load<br>\n",
    " - <span style=\"color:navy;\">(1) Descripción</span>: Carga térmica de calefacción<br>\n",
    " - <span style=\"color:navy;\">(2) Nombre</span>: Cooling Load<br>\n",
    " - <span style=\"color:navy;\">(2) Descripción</span>: Carga térmica de refrigeración<br>\n",
    "- <b>Valores ausentes (missing):</b> 0<br><br>\n",
    "\n",
    "- Disponible en: https://archive.ics.uci.edu/ml/datasets/Energy+efficiency"
   ]
  },
  {
   "cell_type": "markdown",
   "metadata": {},
   "source": [
    "### Ejercicio 5 (2 puntos)"
   ]
  },
  {
   "cell_type": "markdown",
   "metadata": {},
   "source": [
    "Descargue uno de los conjuntos de datos del ejercicio 4, aplique normalización a algunas columnas (variables) y estandarización a otras. Escriba el código Python utilizado y acompañe en la entrega el archivo de datos usado, para reproducir y poder ver los resultados obtenidos."
   ]
  },
  {
   "cell_type": "code",
   "execution_count": null,
   "metadata": {
    "scrolled": true
   },
   "outputs": [],
   "source": [
    "import pandas as pd\n",
    "from sklearn import preprocessing\n",
    "\n",
    "# Carga del dataset \"Wine Quality (white)\"\n",
    "dsWine = pd.read_csv('winequality-white.csv', delimiter=\";\")\n",
    "\n",
    "# Normalización de \"volatile acidity\" y \"citric acid\"\n",
    "normalizer = preprocessing.MinMaxScaler()\n",
    "dsWine[[\"volatile acidity\", \"citric acid\"]] = normalizer.fit_transform(dsWine[[\"volatile acidity\", \"citric acid\"]]) \n",
    "\n",
    "# Estandarización de \"residual sugar\" y \"chlorides\"\n",
    "standardizer = preprocessing.StandardScaler()\n",
    "dsWine[[\"residual sugar\", \"chlorides\"]] = standardizer.fit_transform(dsWine[[\"residual sugar\", \"chlorides\"]]) \n",
    "\n",
    "# Muestra las primeras instancias del dataset transformdas\n",
    "print(dsWine.head(15))\n"
   ]
  },
  {
   "cell_type": "markdown",
   "metadata": {},
   "source": [
    "### Ejercicio 6 (2 puntos)"
   ]
  },
  {
   "cell_type": "markdown",
   "metadata": {},
   "source": [
    "Tome uno de los conjuntos de datos del ejercicio 4 y trate de detectar outliers mediante algún algoritmo de detección de outliers de la librería sklearn, como por ejemplo el algoritmo de envolvente elíptica. Escriba el código Python utilizado y acompañe en la entrega el archivo de datos usado, para reproducir y poder ver los resultados obtenidos."
   ]
  },
  {
   "cell_type": "code",
   "execution_count": 10,
   "metadata": {
    "scrolled": true
   },
   "outputs": [
    {
     "name": "stdout",
     "output_type": "stream",
     "text": [
      "Número de outliers (con umbral del 25%):  1221\n"
     ]
    }
   ],
   "source": [
    "import pandas as pd\n",
    "from sklearn.covariance import EllipticEnvelope\n",
    "import warnings\n",
    "\n",
    "# Desactiva FutureWarnings\n",
    "warnings.simplefilter('ignore')\n",
    "\n",
    "# Carga de datos\n",
    "dsWine = pd.read_csv('winequality-white.csv', delimiter=\";\")\n",
    "\n",
    "# Detección de outliers (umbral del 25%)\n",
    "outlier_method = EllipticEnvelope(contamination=0.25).fit(dsWine)\n",
    "pred = outlier_method.predict(dsWine)\n",
    "\n",
    "# Mostrar resultados\n",
    "print(\"Número de outliers (con umbral del 25%): \", len(pred[pred == -1]))\n"
   ]
  }
 ],
 "metadata": {
  "kernelspec": {
   "display_name": "Python 3",
   "language": "python",
   "name": "python3"
  },
  "language_info": {
   "codemirror_mode": {
    "name": "ipython",
    "version": 3
   },
   "file_extension": ".py",
   "mimetype": "text/x-python",
   "name": "python",
   "nbconvert_exporter": "python",
   "pygments_lexer": "ipython3",
   "version": "3.7.0"
  }
 },
 "nbformat": 4,
 "nbformat_minor": 2
}
